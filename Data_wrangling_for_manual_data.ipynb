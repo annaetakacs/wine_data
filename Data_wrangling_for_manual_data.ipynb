{
 "cells": [
  {
   "source": [
    "# Open files and clean"
   ],
   "cell_type": "markdown",
   "metadata": {}
  },
  {
   "cell_type": "code",
   "execution_count": 107,
   "id": "serious-touch",
   "metadata": {},
   "outputs": [],
   "source": [
    "import pandas as pd"
   ]
  },
  {
   "cell_type": "code",
   "execution_count": 110,
   "id": "respiratory-ceremony",
   "metadata": {},
   "outputs": [],
   "source": [
    "#weekly_revenue_2021_05_copy\n",
    "file_name = str(input(\"Please specify the file you'd like to open: \"))\n",
    "def open_data(file_name):\n",
    "    name = 'Data/primed_data/' + file_name\n",
    "    df = pd.read_excel(name) \n",
    "    return df\n",
    "df = open_data(file_name)"
   ]
  },
  {
   "cell_type": "code",
   "execution_count": 111,
   "metadata": {},
   "outputs": [],
   "source": [
    "def clean_data(df):\n",
    "    df.rename(columns = {df.columns[0]: \"datum\" }, inplace = True)\n",
    "    df = df.transpose()\n",
    "    df.columns = df.iloc[0]\n",
    "    df = df.iloc[1:]\n",
    "    df = df.rename(columns={\"Étel (5%)\": \"fogyasztott_etel\", \n",
    "                        \"Ital (5%)\": \"fogyasztott_ital\",\n",
    "                        \"Ásványvíz (27%)\": \"fogyasztott_asvanyviz\",\n",
    "                        \"Bor-helyben (27%)\": \"bor_helyben\",\n",
    "                        \"Bor-elviteles (27%)\": \"bor_elviteles\",\n",
    "                        \"vendégszám étterem\": \"vendegszam_etterem\",\n",
    "                        \"vendégszám kóstoló\": \"vendegszam_kostolo\",})\n",
    "    for column in df.columns:\n",
    "        df[column] = pd.to_numeric(df[column])\n",
    "        df.round(0)\n",
    "    df.reset_index(level=0, inplace=True)\n",
    "    df.rename(columns = {df.columns[0]: \"datum\" }, inplace = True)\n",
    "    df['datum'] = pd.to_datetime(df['datum'].str.strip())\n",
    "    df.columns.name = 'index'   \n",
    "    return df\n",
    "df = clean_data(df)"
   ]
  },
  {
   "cell_type": "code",
   "execution_count": 112,
   "metadata": {},
   "outputs": [],
   "source": [
    "def create_relevant_columns(df):\n",
    "    df['netto_bevetel'] = df['fogyasztott_etel'] + df['fogyasztott_ital'] + df['fogyasztott_asvanyviz'] + df['bor_helyben'] + df['bor_elviteles']\n",
    "    df['osszes_vendeg'] = df['vendegszam_etterem'] + df['vendegszam_kostolo']\n",
    "    df['atlag_koltes'] = df['netto_bevetel'] + df['osszes_vendeg']\n",
    "    df['day_of_week'] = df['datum'].dt.day_name()\n",
    "    return df\n",
    "df = create_relevant_columns(df)"
   ]
  },
  {
   "cell_type": "code",
   "execution_count": 113,
   "metadata": {},
   "outputs": [],
   "source": [
    "df.to_csv('Data/clean_data/weekly_revenue_202105.csv', index=False)"
   ]
  },
  {
   "cell_type": "code",
   "execution_count": null,
   "metadata": {},
   "outputs": [],
   "source": []
  }
 ],
 "metadata": {
  "kernelspec": {
   "name": "python385jvsc74a57bd04e690a31fe251c746b4bc7378fe4b550aafd815e67097378779228920a1bdb41",
   "display_name": "Python 3.8.5 64-bit ('base': conda)"
  },
  "language_info": {
   "codemirror_mode": {
    "name": "ipython",
    "version": 3
   },
   "file_extension": ".py",
   "mimetype": "text/x-python",
   "name": "python",
   "nbconvert_exporter": "python",
   "pygments_lexer": "ipython3",
   "version": "3.8.5"
  }
 },
 "nbformat": 4,
 "nbformat_minor": 5
}